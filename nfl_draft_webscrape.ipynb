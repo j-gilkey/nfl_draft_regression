{
 "cells": [
  {
   "cell_type": "code",
   "execution_count": null,
   "metadata": {},
   "outputs": [],
   "source": [
    "from bs4 import BeautifulSoup\n",
    "import requests"
   ]
  },
  {
   "cell_type": "code",
   "execution_count": null,
   "metadata": {},
   "outputs": [],
   "source": [
    "page = requests.get(\"https://www.pro-football-reference.com/draft/2019-combine.htm\")\n",
    "page"
   ]
  },
  {
   "cell_type": "code",
   "execution_count": null,
   "metadata": {},
   "outputs": [],
   "source": [
    "page.status_code"
   ]
  },
  {
   "cell_type": "code",
   "execution_count": null,
   "metadata": {},
   "outputs": [],
   "source": [
    "page.content"
   ]
  },
  {
   "cell_type": "code",
   "execution_count": null,
   "metadata": {},
   "outputs": [],
   "source": [
    "soup = BeautifulSoup(page.content, 'html.parser')\n",
    "soup"
   ]
  },
  {
   "cell_type": "code",
   "execution_count": null,
   "metadata": {},
   "outputs": [],
   "source": [
    "print(soup.prettify)"
   ]
  },
  {
   "cell_type": "code",
   "execution_count": null,
   "metadata": {},
   "outputs": [],
   "source": [
    "list(soup.children)"
   ]
  },
  {
   "cell_type": "code",
   "execution_count": null,
   "metadata": {},
   "outputs": [],
   "source": [
    "[type(item) for item in list(soup.children)]"
   ]
  },
  {
   "cell_type": "code",
   "execution_count": null,
   "metadata": {},
   "outputs": [],
   "source": [
    "html = list(soup.children)[3]"
   ]
  },
  {
   "cell_type": "code",
   "execution_count": null,
   "metadata": {},
   "outputs": [],
   "source": [
    "list(html.children)"
   ]
  },
  {
   "cell_type": "code",
   "execution_count": null,
   "metadata": {},
   "outputs": [],
   "source": [
    "[type(item) for item in list(html.children)]"
   ]
  },
  {
   "cell_type": "code",
   "execution_count": null,
   "metadata": {},
   "outputs": [],
   "source": [
    "body = list(html.children)[3]"
   ]
  },
  {
   "cell_type": "code",
   "execution_count": null,
   "metadata": {},
   "outputs": [],
   "source": [
    "[type(item) for item in list(body.children)]"
   ]
  },
  {
   "cell_type": "code",
   "execution_count": null,
   "metadata": {},
   "outputs": [],
   "source": [
    "tab = list(body.children)[1]"
   ]
  },
  {
   "cell_type": "code",
   "execution_count": null,
   "metadata": {},
   "outputs": [],
   "source": [
    "list(tab.children)"
   ]
  },
  {
   "cell_type": "code",
   "execution_count": null,
   "metadata": {},
   "outputs": [],
   "source": [
    "tab_body = tab.find('table')"
   ]
  },
  {
   "cell_type": "code",
   "execution_count": null,
   "metadata": {},
   "outputs": [],
   "source": [
    "table = tab.find(\"table\")\n",
    "rows = table.findAll('tr')\n",
    "zipdata = [[td.findChildren(text=True) for td in tr.findAll(\"td\")] for tr in rows]"
   ]
  },
  {
   "cell_type": "code",
   "execution_count": null,
   "metadata": {},
   "outputs": [],
   "source": [
    "zipindex = [[th.findChildren(text=True) for th in tr.findAll(\"th\")] for tr in rows]"
   ]
  },
  {
   "cell_type": "code",
   "execution_count": null,
   "metadata": {},
   "outputs": [],
   "source": [
    "zipindex_new = []\n",
    "for i in zipindex:\n",
    "    if len(i) == 1:\n",
    "        zipindex_new.append(i)\n"
   ]
  },
  {
   "cell_type": "code",
   "execution_count": null,
   "metadata": {},
   "outputs": [],
   "source": [
    "headers = zipindex[0]\n",
    "headers"
   ]
  },
  {
   "cell_type": "code",
   "execution_count": null,
   "metadata": {},
   "outputs": [],
   "source": [
    "zipindex_new"
   ]
  },
  {
   "cell_type": "code",
   "execution_count": null,
   "metadata": {},
   "outputs": [],
   "source": [
    "zipdata"
   ]
  },
  {
   "cell_type": "code",
   "execution_count": null,
   "metadata": {},
   "outputs": [],
   "source": [
    "draft_page = requests.get(\"https://www.pro-football-reference.com/years/2019/draft.htm\")\n",
    "draft_page"
   ]
  },
  {
   "cell_type": "code",
   "execution_count": null,
   "metadata": {},
   "outputs": [],
   "source": [
    "draft_page.content"
   ]
  },
  {
   "cell_type": "code",
   "execution_count": null,
   "metadata": {},
   "outputs": [],
   "source": [
    "draft_soup = BeautifulSoup(draft_page.content, 'html.parser')\n",
    "draft_soup"
   ]
  },
  {
   "cell_type": "code",
   "execution_count": null,
   "metadata": {},
   "outputs": [],
   "source": [
    "list(draft_soup.children)"
   ]
  },
  {
   "cell_type": "code",
   "execution_count": null,
   "metadata": {},
   "outputs": [],
   "source": [
    "[type(item) for item in list(draft_soup.children)]"
   ]
  },
  {
   "cell_type": "code",
   "execution_count": null,
   "metadata": {},
   "outputs": [],
   "source": [
    "draft_html = list(draft_soup.children)[3]"
   ]
  },
  {
   "cell_type": "code",
   "execution_count": null,
   "metadata": {},
   "outputs": [],
   "source": [
    "[type(item) for item in list(draft_html.children)]"
   ]
  },
  {
   "cell_type": "code",
   "execution_count": null,
   "metadata": {},
   "outputs": [],
   "source": [
    "draft_body = list(draft_html.children)[3]"
   ]
  },
  {
   "cell_type": "code",
   "execution_count": null,
   "metadata": {},
   "outputs": [],
   "source": [
    "[type(item) for item in list(draft_body.children)]"
   ]
  },
  {
   "cell_type": "code",
   "execution_count": null,
   "metadata": {},
   "outputs": [],
   "source": [
    "draft_table = list(draft_body.children)[1]"
   ]
  },
  {
   "cell_type": "code",
   "execution_count": null,
   "metadata": {},
   "outputs": [],
   "source": [
    "[type(item) for item in list(draft_table.children)]"
   ]
  },
  {
   "cell_type": "code",
   "execution_count": null,
   "metadata": {},
   "outputs": [],
   "source": [
    "info = list(draft_table.children)[11]"
   ]
  },
  {
   "cell_type": "code",
   "execution_count": null,
   "metadata": {},
   "outputs": [],
   "source": [
    "[type(item) for item in list(info.children)]"
   ]
  },
  {
   "cell_type": "code",
   "execution_count": null,
   "metadata": {},
   "outputs": [],
   "source": [
    "info_table = list(info.children)[9]"
   ]
  },
  {
   "cell_type": "code",
   "execution_count": null,
   "metadata": {},
   "outputs": [],
   "source": [
    "[type(item) for item in list(info_table.children)]"
   ]
  },
  {
   "cell_type": "code",
   "execution_count": null,
   "metadata": {},
   "outputs": [],
   "source": [
    "draft_info = list(info_table.children)[3]"
   ]
  },
  {
   "cell_type": "code",
   "execution_count": null,
   "metadata": {},
   "outputs": [],
   "source": [
    "dtable = draft_info.find(\"table\")\n",
    "drows = dtable.findAll('tr')\n",
    "ddata = [[td.findChildren(text=True) for td in tr.findAll(\"td\")] for tr in drows]"
   ]
  },
  {
   "cell_type": "code",
   "execution_count": null,
   "metadata": {},
   "outputs": [],
   "source": [
    "ddata[2]"
   ]
  },
  {
   "cell_type": "code",
   "execution_count": null,
   "metadata": {},
   "outputs": [],
   "source": [
    "ddata2 = []\n",
    "for i in ddata:\n",
    "    if len(i) == 28:\n",
    "        ddata2.append({'pick': i[0], 'name': i[2], 'position': i[3], 'college': i[-2], 'year': i[5]})"
   ]
  },
  {
   "cell_type": "code",
   "execution_count": null,
   "metadata": {},
   "outputs": [],
   "source": [
    "ddata2"
   ]
  },
  {
   "cell_type": "code",
   "execution_count": null,
   "metadata": {},
   "outputs": [],
   "source": [
    "def get_draft_info(year):\n",
    "    draft_page = requests.get(\"https://www.pro-football-reference.com/years/\"+ year + \"/draft.htm\")\n",
    "    draft_soup = BeautifulSoup(draft_page.content, 'html.parser')\n",
    "    draft_html = list(draft_soup.children)[3]\n",
    "    draft_body = list(draft_html.children)[3]\n",
    "    draft_table = list(draft_body.children)[1]\n",
    "    draft_info = list(draft_table.children)[11]\n",
    "    draft_info_table = list(draft_info.children)[9]\n",
    "    draft_detail = list(draft_info_table.children)[3]\n",
    "    dtable = draft_detail.find(\"table\")\n",
    "    drows = dtable.findAll('tr')\n",
    "    ddata = [[td.findChildren(text=True) for td in tr.findAll(\"td\")] for tr in drows]\n",
    "    ddata2 = []\n",
    "    for i in ddata:\n",
    "        if len(i) == 28:\n",
    "            ddata2.append({'pick': i[0], 'name': i[2], 'position': i[3], 'college': i[-2], 'year': i[5]})\n",
    "    return ddata2"
   ]
  },
  {
   "cell_type": "code",
   "execution_count": null,
   "metadata": {},
   "outputs": [],
   "source": [
    "get_draft_info('2015')"
   ]
  },
  {
   "cell_type": "code",
   "execution_count": null,
   "metadata": {},
   "outputs": [],
   "source": [
    "list_of_teams = ['arizona-cardinals', 'atlanta-falcons', 'baltimore-ravens', 'buffalo-bills', 'carolina-panthers',\n",
    "                'chicago-bears', 'cincinnati-bengals', 'cleveland-browns', 'dallas-cowboys', 'denver-broncos',\n",
    "                'detroit-lions', 'green-bay-packers', 'houston-texans', 'indianapolis-colts',\n",
    "                'jacksonville-jaguars', 'kansas-city-chiefs', 'los-angeles-chargers', 'los-angeles-rams',\n",
    "                'miami-dolphins', 'minnesota-vikings', 'new-england-patriots', 'new-orleans-saints',\n",
    "                'new-york-giants', 'new-york-jets', 'oakland-raiders', 'philadelphia-eagles', 'pittsburgh-steelers',\n",
    "                'san-francisco-49ers', 'seattle-seahawks', 'tampa-bay-buccaneers', 'tennessee-titans',\n",
    "                'washington-redskins']\n",
    "seasons = ['2011-12', '2012-13', '2013-14', '2014-15', '2015-16', '2016-17', '2017-18', '2018-19', '2019-20']"
   ]
  },
  {
   "cell_type": "code",
   "execution_count": null,
   "metadata": {},
   "outputs": [],
   "source": [
    "page = requests.get(\"https://www.capology.com/nfl/arizona-cardinals/salaries/2011-12/\", auth=(config.cap_email, config.cap_password))"
   ]
  },
  {
   "cell_type": "code",
   "execution_count": null,
   "metadata": {},
   "outputs": [],
   "source": [
    "year1 = '2011-12'\n",
    "team1 = 'arizona-cardinals'\n",
    "year2 = '2012-13'\n",
    "salary_page = requests.get(\"https://www.capology.com/nfl/arizona-cardinals/salaries/2011-12/\", auth=(\"andrewtriola@gmail.com\", \"flatiron\"))\n",
    "salary_page.status_code"
   ]
  },
  {
   "cell_type": "code",
   "execution_count": null,
   "metadata": {},
   "outputs": [],
   "source": [
    "salary_soup = BeautifulSoup(salary_page.content, 'html.parser')"
   ]
  },
  {
   "cell_type": "code",
   "execution_count": null,
   "metadata": {},
   "outputs": [],
   "source": [
    "list(salary_soup.children)"
   ]
  },
  {
   "cell_type": "code",
   "execution_count": null,
   "metadata": {},
   "outputs": [],
   "source": [
    "[type(item) for item in list(salary_soup.children)]"
   ]
  },
  {
   "cell_type": "code",
   "execution_count": null,
   "metadata": {},
   "outputs": [],
   "source": [
    "salary_html = list(salary_soup.children)[-1]\n",
    "salary_html"
   ]
  },
  {
   "cell_type": "code",
   "execution_count": null,
   "metadata": {},
   "outputs": [],
   "source": [
    "[type(item) for item in list(salary_html.children)]"
   ]
  },
  {
   "cell_type": "code",
   "execution_count": null,
   "metadata": {},
   "outputs": [],
   "source": [
    "salary_table = list(salary_html.children)[25]\n"
   ]
  },
  {
   "cell_type": "code",
   "execution_count": null,
   "metadata": {},
   "outputs": [],
   "source": [
    "[type(item) for item in list(salary_table.children)]"
   ]
  },
  {
   "cell_type": "code",
   "execution_count": null,
   "metadata": {},
   "outputs": [],
   "source": [
    "salary_split = (str(salary_table).split('<a'))"
   ]
  },
  {
   "cell_type": "code",
   "execution_count": null,
   "metadata": {},
   "outputs": [],
   "source": [
    "len(salary_split)"
   ]
  },
  {
   "cell_type": "code",
   "execution_count": null,
   "metadata": {},
   "outputs": [],
   "source": [
    "# for x > 0 and x <= len(salary_split)\n",
    "# player_x = salary_split[x]"
   ]
  },
  {
   "cell_type": "code",
   "execution_count": null,
   "metadata": {},
   "outputs": [],
   "source": [
    "salary_split"
   ]
  },
  {
   "cell_type": "code",
   "execution_count": null,
   "metadata": {},
   "outputs": [],
   "source": [
    "salary_split[0]"
   ]
  },
  {
   "cell_type": "code",
   "execution_count": null,
   "metadata": {},
   "outputs": [],
   "source": [
    "salary_split2 = salary_split[6].split('>')"
   ]
  },
  {
   "cell_type": "code",
   "execution_count": null,
   "metadata": {},
   "outputs": [],
   "source": [
    "salary_split3 = salary_split2[2].split('<')"
   ]
  },
  {
   "cell_type": "code",
   "execution_count": null,
   "metadata": {},
   "outputs": [],
   "source": [
    "player_name = salary_split3[0]\n",
    "player_name"
   ]
  },
  {
   "cell_type": "code",
   "execution_count": null,
   "metadata": {},
   "outputs": [],
   "source": [
    "salary_split[3]"
   ]
  },
  {
   "cell_type": "code",
   "execution_count": null,
   "metadata": {},
   "outputs": [],
   "source": [
    "salary_split4 = salary_split2[3].split(',')"
   ]
  },
  {
   "cell_type": "code",
   "execution_count": null,
   "metadata": {},
   "outputs": [],
   "source": [
    "salary_split4"
   ]
  },
  {
   "cell_type": "code",
   "execution_count": null,
   "metadata": {},
   "outputs": [],
   "source": [
    "salary_split5 = salary_split4[0].split('(')"
   ]
  },
  {
   "cell_type": "code",
   "execution_count": null,
   "metadata": {},
   "outputs": [],
   "source": [
    "salary_split5"
   ]
  },
  {
   "cell_type": "code",
   "execution_count": null,
   "metadata": {},
   "outputs": [],
   "source": [
    "player_salary = salary_split5[1].strip('\"')\n",
    "player_salary"
   ]
  },
  {
   "cell_type": "code",
   "execution_count": null,
   "metadata": {},
   "outputs": [],
   "source": [
    "name_list = []\n",
    "salary_list = []\n",
    "x = 1\n",
    "while x < len(salary_split):\n",
    "    salary_split2 = salary_split[x].split('>')\n",
    "    salary_split3 = salary_split2[2].split('<')\n",
    "    player_name = salary_split3[0]\n",
    "    name_list.append(player_name)\n",
    "    print(player_name)\n",
    "    salary_split4 = salary_split2[3].split(',')\n",
    "    salary_split5 = salary_split4[1].split('(')\n",
    "    player_salary = salary_split5[1].strip('\"')\n",
    "    salary_list.append(player_salary)\n",
    "    print(player_salary)\n",
    "    x += 1\n",
    "    "
   ]
  },
  {
   "cell_type": "code",
   "execution_count": 1,
   "metadata": {},
   "outputs": [],
   "source": [
    "import requests\n",
    "import config\n",
    "from bs4 import BeautifulSoup\n",
    "#import mysql_functions as my_funcs\n",
    "#from bs4 import Tag, NavigableString"
   ]
  },
  {
   "cell_type": "code",
   "execution_count": 6,
   "metadata": {
    "collapsed": true
   },
   "outputs": [
    {
     "data": {
      "text/plain": [
       "[('Joey Bosa', ['4'], ['$25,873,685'], ['$25,873,685'], ['$25,873,685']),\n",
       " ('Jalen Ramsey', ['4'], ['$23,351,000'], ['$22,901,000'], ['$22,901,000']),\n",
       " ('Ronnie Stanley', ['4'], ['$20,484,331'], ['$20,034,331'], ['$20,034,331']),\n",
       " ('DeForest Buckner',\n",
       "  ['4'],\n",
       "  ['$18,190,995'],\n",
       "  ['$18,190,995'],\n",
       "  ['$18,190,995']),\n",
       " ('Jack Conklin', ['4'], ['$15,897,658'], ['$15,447,658'], ['$15,447,658']),\n",
       " ('Leonard Floyd', ['4'], ['$15,782,861'], ['$15,332,861'], ['$15,332,861']),\n",
       " ('Eli Apple', ['4'], ['$15,152,320'], ['$15,152,320'], ['$15,152,320']),\n",
       " ('Vernon Hargreaves',\n",
       "  ['4'],\n",
       "  ['$14,177,661'],\n",
       "  ['$14,177,661'],\n",
       "  ['$14,177,661']),\n",
       " ('Sheldon Rankins', ['4'], ['$12,801,648'], ['$12,801,648'], ['$12,801,648']),\n",
       " ('Laremy Tunsil', ['4'], ['$12,457,650'], ['$12,457,650'], ['$12,457,650']),\n",
       " ('Karl Joseph', ['4'], ['$11,884,317'], ['$11,434,317'], ['$11,434,317']),\n",
       " ('Taylor Decker', ['4'], ['$10,966,980'], ['$10,966,980'], ['$10,966,980']),\n",
       " ('Keanu Neal', ['4'], ['$10,737,645'], ['$10,737,645'], ['$10,737,645']),\n",
       " ('Ryan Kelly', ['4'], ['$10,450,983'], ['$10,450,983'], ['$10,450,983']),\n",
       " ('Shaq Lawson', ['4'], ['$10,278,977'], ['$9,828,976'], ['$9,828,976']),\n",
       " ('Darron Lee', ['4'], ['$10,221,648'], ['$7,927,787'], ['$7,927,787']),\n",
       " ('Will Fuller', ['4'], ['$10,164,313'], ['$9,409,270'], ['$9,409,270']),\n",
       " ('William Jackson', ['4'], ['$9,705,644'], ['$7,482,147'], ['$7,482,147']),\n",
       " ('Artie Burns', ['4'], ['$9,590,981'], ['$7,383,120'], ['$7,383,120']),\n",
       " ('Kenny Clark', ['4'], ['$9,361,646'], ['$7,185,058'], ['$7,185,058']),\n",
       " ('Vernon Butler', ['4'], ['$8,396,514'], ['$7,946,514'], ['$7,946,514']),\n",
       " ('Germain Ifedi', ['4'], ['$8,265,105'], ['$6,238,046'], ['$6,238,046']),\n",
       " ('Emmanuel Ogbah', ['4'], ['$6,609,641'], ['$4,357,450'], ['$4,357,450']),\n",
       " ('Hunter Henry', ['4'], ['$6,380,307'], ['$3,981,034'], ['$3,981,034']),\n",
       " ('Chris Jones', ['4'], ['$6,231,229'], ['$3,440,039'], ['$3,440,039']),\n",
       " ('Reggie Ragland', ['4'], ['$5,841,370'], ['$3,163,786'], ['$3,163,786']),\n",
       " ('Kamalei Correa', ['4'], ['$5,749,639'], ['$3,092,902'], ['$3,092,902']),\n",
       " ('Austin Johnson', ['4'], ['$5,662,229'], ['$3,025,359'], ['$3,025,359']),\n",
       " ('Derrick Henry', ['4'], ['$5,407,928'], ['$2,828,853'], ['$2,828,853']),\n",
       " (\"A'Shawn Robinson\", ['4'], ['$5,233,635'], ['$2,694,172'], ['$2,694,172']),\n",
       " ('Jason Spriggs', ['4'], ['$5,004,293'], ['$2,516,954'], ['$2,516,954']),\n",
       " ('Jarran Reed', ['4'], ['$4,889,637'], ['$2,428,355'], ['$2,428,355']),\n",
       " ('Mackensie Alexander',\n",
       "  ['4'],\n",
       "  ['$4,316,304'],\n",
       "  ['$1,985,326'],\n",
       "  ['$1,985,326']),\n",
       " ('Sean Davis', ['4'], ['$4,086,970'], ['$1,808,113'], ['$1,808,113']),\n",
       " ('Vonn Bell', ['4'], ['$3,972,299'], ['$1,088,945'], ['$1,088,945']),\n",
       " ('James Bradberry', ['4'], ['$3,960,836'], ['$1,710,646'], ['$1,710,646']),\n",
       " ('Adam Gotsis', ['4'], ['$3,937,904'], ['$2,012,926'], ['$2,012,926']),\n",
       " ('Carl Nassib', ['4'], ['$3,598,862'], ['$889,752'], ['$889,752']),\n",
       " ('Maliek Collins', ['4'], ['$3,550,180'], ['$881,152'], ['$881,152']),\n",
       " ('Yannick Ngakoue', ['4'], ['$3,480,587'], ['$856,176'], ['$856,176']),\n",
       " ('Jonathan Bullard', ['4'], ['$3,413,520'], ['$826,520'], ['$826,520']),\n",
       " ('Kenyan Drake', ['4'], ['$3,381,260'], ['$821,260'], ['$821,260']),\n",
       " ('Shon Coleman', ['4'], ['$3,278,816'], ['$787,536'], ['$787,536']),\n",
       " ('Joe Thuney', ['4'], ['$3,213,428'], ['$773,428'], ['$773,428']),\n",
       " ('Austin Hooper', ['4'], ['$3,213,428'], ['$773,428'], ['$773,428']),\n",
       " (\"Le'Raven Clark\", ['4'], ['$3,142,732'], ['$733,732'], ['$733,732']),\n",
       " ('Kyler Fackrell', ['4'], ['$3,134,328'], ['$694,048'], ['$694,048']),\n",
       " ('Jordan Jenkins', ['4'], ['$3,123,920'], ['$723,920'], ['$723,920']),\n",
       " ('Kendall Fuller', ['4'], ['$3,123,424'], ['$718,424'], ['$718,424']),\n",
       " ('Javon Hargrave', ['4'], ['$3,114,256'], ['$693,256'], ['$693,256']),\n",
       " ('C.J. Prosise', ['4'], ['$3,112,464'], ['$692,464'], ['$692,464']),\n",
       " ('Nick Vigil', ['4'], ['$3,110,629'], ['$695,629'], ['$695,629']),\n",
       " ('Brandon Williams', ['4'], ['$3,082,696'], ['$672,695'], ['$672,695']),\n",
       " ('Justin Simmons', ['4'], ['$3,069,552'], ['$645,420'], ['$645,420']),\n",
       " ('Nick Vannett', ['4'], ['$3,056,880'], ['$656,880'], ['$656,880']),\n",
       " ('Graham Glasgow', ['4'], ['$3,037,920'], ['$645,420'], ['$645,420']),\n",
       " ('Joe Schobert', ['4'], ['$2,973,956'], ['$633,956'], ['$633,956']),\n",
       " ('Eric Murray', ['4'], ['$2,967,303'], ['$599,803'], ['$599,803']),\n",
       " ('Sheldon Day', ['4'], ['$2,948,410'], ['$608,410'], ['$608,410']),\n",
       " ('Chris Moore', ['4'], ['$2,936,360'], ['$596,360'], ['$596,360']),\n",
       " ('Ryan Smith', ['4'], ['$2,932,161'], ['$592,161'], ['$592,161']),\n",
       " ('B.J. Goodson', ['4'], ['$2,922,207'], ['$582,207'], ['$582,207']),\n",
       " ('Miles Killebrew', ['4'], ['$2,918,564'], ['$578,564'], ['$578,564']),\n",
       " ('Nick Kwiatkoski', ['4'], ['$2,915,120'], ['$575,120'], ['$575,120']),\n",
       " (\"De'Vondre Campbell\", ['4'], ['$2,905,528'], ['$565,528'], ['$565,528']),\n",
       " ('Hassan Ridgeway', ['4'], ['$2,900,222'], ['$560,222'], ['$560,222']),\n",
       " ('David Onyemata', ['4'], ['$2,882,345'], ['$542,345'], ['$542,345']),\n",
       " ('Andrew Billings', ['4'], ['$2,875,845'], ['$535,845'], ['$535,845']),\n",
       " ('Jerald Hawkins', ['4'], ['$2,870,488'], ['$530,488'], ['$530,488']),\n",
       " ('Deon Bush', ['4'], ['$2,866,218'], ['$526,218'], ['$526,218']),\n",
       " ('Demarcus Robinson', ['4'], ['$2,857,172'], ['$517,172'], ['$517,172']),\n",
       " ('Alex Lewis', ['4'], ['$2,831,897'], ['$491,897'], ['$491,897']),\n",
       " ('Seth Devalve', ['4'], ['$2,723,393'], ['$383,393'], ['$383,393']),\n",
       " ('Blake Martinez', ['4'], ['$2,723,393'], ['$383,393'], ['$383,393']),\n",
       " ('Dak Prescott', ['4'], ['$2,723,393'], ['$383,393'], ['$383,393']),\n",
       " ('Devontae Booker', ['4'], ['$2,723,393'], ['$383,393'], ['$383,393']),\n",
       " ('Tajae Sharpe', ['4'], ['$2,614,884'], ['$274,884'], ['$274,884']),\n",
       " ('Ronald Blair', ['4'], ['$2,610,405'], ['$270,405'], ['$270,405']),\n",
       " ('DeAndre Washington', ['4'], ['$2,609,195'], ['$269,195'], ['$269,195']),\n",
       " ('Connor McGovern', ['4'], ['$2,603,900'], ['$263,900'], ['$263,900']),\n",
       " ('Matt Judon', ['4'], ['$2,595,736'], ['$255,736'], ['$255,736']),\n",
       " ('Jordan Howard', ['4'], ['$2,588,022'], ['$248,022'], ['$248,022']),\n",
       " ('Wendell Smallwood', ['4'], ['$2,584,578'], ['$244,578'], ['$244,578']),\n",
       " ('Joe Haeg', ['4'], ['$2,582,410'], ['$242,410'], ['$242,410']),\n",
       " ('LeShaun Sims', ['4'], ['$2,578,186'], ['$238,186'], ['$238,186']),\n",
       " ('Brandon Shell', ['4'], ['$2,575,966'], ['$235,966'], ['$235,966']),\n",
       " ('Kentrell Brothers', ['4'], ['$2,572,681'], ['$232,681'], ['$232,681']),\n",
       " ('Halapoulivaati Vaitai', ['4'], ['$2,565,125'], ['$225,125'], ['$225,125']),\n",
       " ('D.J. Reader', ['4'], ['$2,555,380'], ['$215,380'], ['$215,380']),\n",
       " ('Marqui Christian', ['4'], ['$2,550,201'], ['$210,201'], ['$210,201']),\n",
       " ('Jatavis Brown', ['4'], ['$2,524,385'], ['$184,385'], ['$184,385']),\n",
       " ('David Morgan', ['4'], ['$2,475,457'], ['$106,200'], ['$106,200']),\n",
       " ('Anthony Brown', ['4'], ['$2,474,947'], ['$134,947'], ['$134,947']),\n",
       " ('Wes Schweitzer', ['4'], ['$2,472,381'], ['$132,381'], ['$132,381']),\n",
       " ('Derek Watt', ['4'], ['$2,469,682'], ['$129,682'], ['$129,682']),\n",
       " ('Cody Core', ['4'], ['$2,467,932'], ['$127,932'], ['$127,932']),\n",
       " ('Mike Thomas', ['4'], ['$2,456,070'], ['$116,070'], ['$116,070']),\n",
       " ('Kamu Grugier-Hill', ['4'], ['$2,440,356'], ['$100,356'], ['$100,356']),\n",
       " ('Kavon Frazier', ['4'], ['$2,440,356'], ['$100,356'], ['$100,356']),\n",
       " ('Elandon Roberts', ['4'], ['$2,440,356'], ['$100,356'], ['$100,356']),\n",
       " ('Will Parks', ['4'], ['$2,440,356'], ['$100,356'], ['$100,356']),\n",
       " ('Jalen Mills', ['4'], ['$2,416,856'], ['$76,856'], ['$76,856']),\n",
       " ('Lac Edwards', ['4'], ['$2,415,795'], ['$75,795'], ['$75,795']),\n",
       " ('Jayron Kearse', ['4'], ['$2,404,224'], ['$64,224'], ['$64,224']),\n",
       " ('Clayton Fejedelem', ['4'], ['$2,403,550'], ['$63,550'], ['$63,550']),\n",
       " ('Tyler Matakevich', ['4'], ['$2,403,050'], ['$63,050'], ['$63,050']),\n",
       " ('Austin Blythe', ['4'], ['$2,401,989'], ['$61,989'], ['$61,989'])]"
      ]
     },
     "execution_count": 6,
     "metadata": {},
     "output_type": "execute_result"
    }
   ],
   "source": [
    "def spotrac_year_scrape(year):\n",
    "    page = requests.get(\"https://www.spotrac.com/nfl/contracts/type-rookie/signed-\"+year+\"/\")\n",
    "    soup = BeautifulSoup(page.content, 'html.parser')\n",
    "    spot_table = soup.find('table')\n",
    "    spotrows = spot_table.findAll('tr')\n",
    "    spot_data = [[td.findChildren(text=True) for td in tr.findAll(\"td\")] for tr in spotrows]\n",
    "    player_list = []\n",
    "    i = 1\n",
    "    while i < (len(spot_data) - 2):\n",
    "        player = spot_data[i]\n",
    "        player_tuple = (player[0][1], player[4], player[5], player[7], player[8], year)\n",
    "        #print(player_tuple)\n",
    "        player_list.append(player_tuple)\n",
    "        i += 1\n",
    "    return player_list\n",
    "spotrac_year_scrape('2016')\n"
   ]
  },
  {
   "cell_type": "code",
   "execution_count": 9,
   "metadata": {},
   "outputs": [],
   "source": [
    "spotpage = requests.get(\"https://www.spotrac.com/nfl/contracts/type-rookie/signed-2019/\")"
   ]
  },
  {
   "cell_type": "code",
   "execution_count": 10,
   "metadata": {},
   "outputs": [],
   "source": [
    "spot_soup = BeautifulSoup(spotpage.content, 'html.parser')"
   ]
  },
  {
   "cell_type": "code",
   "execution_count": 11,
   "metadata": {},
   "outputs": [],
   "source": [
    "spot_table = spot_soup.find('table')"
   ]
  },
  {
   "cell_type": "code",
   "execution_count": null,
   "metadata": {},
   "outputs": [],
   "source": [
    "spot_table"
   ]
  },
  {
   "cell_type": "code",
   "execution_count": null,
   "metadata": {},
   "outputs": [],
   "source": [
    "[type(item) for item in list(spot_soup.children)]"
   ]
  },
  {
   "cell_type": "code",
   "execution_count": 12,
   "metadata": {},
   "outputs": [],
   "source": [
    "spot_table\n",
    "spotrows = spot_table.findAll('tr')\n",
    "spot_data = [[td.findChildren(text=True) for td in tr.findAll(\"td\")] for tr in spotrows]"
   ]
  },
  {
   "cell_type": "code",
   "execution_count": null,
   "metadata": {},
   "outputs": [],
   "source": [
    "spot_data[1][0][1]"
   ]
  },
  {
   "cell_type": "code",
   "execution_count": null,
   "metadata": {},
   "outputs": [],
   "source": [
    "name = spot_data[x][0][1]"
   ]
  },
  {
   "cell_type": "code",
   "execution_count": null,
   "metadata": {},
   "outputs": [],
   "source": [
    "name"
   ]
  },
  {
   "cell_type": "code",
   "execution_count": 13,
   "metadata": {},
   "outputs": [],
   "source": [
    "avg_sal = spot_data[1][6]"
   ]
  },
  {
   "cell_type": "code",
   "execution_count": 23,
   "metadata": {},
   "outputs": [
    {
     "data": {
      "text/plain": [
       "['$18,000,000']"
      ]
     },
     "execution_count": 23,
     "metadata": {},
     "output_type": "execute_result"
    }
   ],
   "source": [
    "avg_sal"
   ]
  },
  {
   "cell_type": "code",
   "execution_count": 28,
   "metadata": {},
   "outputs": [
    {
     "data": {
      "text/plain": [
       "\"18,000,000']\""
      ]
     },
     "execution_count": 28,
     "metadata": {},
     "output_type": "execute_result"
    }
   ],
   "source": [
    "(str(avg_sal)).strip(\"['$\")"
   ]
  },
  {
   "cell_type": "code",
   "execution_count": 22,
   "metadata": {},
   "outputs": [
    {
     "data": {
      "text/plain": [
       "\"['$18,000,000']\""
      ]
     },
     "execution_count": 22,
     "metadata": {},
     "output_type": "execute_result"
    }
   ],
   "source": [
    "avg_sal2"
   ]
  },
  {
   "cell_type": "code",
   "execution_count": null,
   "metadata": {},
   "outputs": [],
   "source": [
    "years = spot_data[x][4]"
   ]
  },
  {
   "cell_type": "code",
   "execution_count": null,
   "metadata": {},
   "outputs": [],
   "source": [
    "total = spot_data[x][5]"
   ]
  },
  {
   "cell_type": "code",
   "execution_count": null,
   "metadata": {},
   "outputs": [],
   "source": [
    "gtd_sign = spot_data[x][7]"
   ]
  },
  {
   "cell_type": "code",
   "execution_count": null,
   "metadata": {},
   "outputs": [],
   "source": [
    "gtd_tot = spot_data[x][8]"
   ]
  },
  {
   "cell_type": "code",
   "execution_count": null,
   "metadata": {},
   "outputs": [],
   "source": []
  }
 ],
 "metadata": {
  "kernelspec": {
   "display_name": "Python 3",
   "language": "python",
   "name": "python3"
  },
  "language_info": {
   "codemirror_mode": {
    "name": "ipython",
    "version": 3
   },
   "file_extension": ".py",
   "mimetype": "text/x-python",
   "name": "python",
   "nbconvert_exporter": "python",
   "pygments_lexer": "ipython3",
   "version": "3.7.4"
  }
 },
 "nbformat": 4,
 "nbformat_minor": 2
}
